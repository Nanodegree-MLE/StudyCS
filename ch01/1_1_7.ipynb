{
  "nbformat": 4,
  "nbformat_minor": 0,
  "metadata": {
    "colab": {
      "provenance": []
    },
    "kernelspec": {
      "name": "python3",
      "display_name": "Python 3"
    },
    "language_info": {
      "name": "python"
    }
  },
  "cells": [
    {
      "cell_type": "markdown",
      "source": [
        "# 노출모듈 패턴\n",
        "즉시 실행 함수를 통해 private, public 같은 접근 제어자를 만드는 패턴\n",
        "\n",
        "=> 이를 통해 모듈의 구현 세부 사항을 숨기고 필요한 인터페이스만을 노출시킬 수 있음\n",
        "~~~\n",
        "\n",
        "즉시 실행 함수 : 함수 정의와 동시에 바로 실행되는 함수. 초기화코드, 라이브러리 내 전역 변수의 충돌 방지 등에 사용\n",
        "\n",
        "private(접근 제어자) : 변수나 함수를 모듈 내부에서만 사용할 수 있도록 설정\n",
        "\n",
        "public(접근 제어자) : 변수나 함수를 모듈 외부에서도 사용할 수 있도록 설정\n",
        "~~~"
      ],
      "metadata": {
        "id": "1mk0oC8I8zSp"
      }
    }
  ]
}