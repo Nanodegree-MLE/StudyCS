{
 "cells": [
  {
   "cell_type": "markdown",
   "id": "45901d5c-bfb9-48ea-ab5d-1ac9d2b61dc1",
   "metadata": {},
   "source": [
    "## 절차형 프로그래밍(procedural **programming**)\n",
    "\n",
    "- 로직이 연속적인 계산 과정으로 이루어진다.\n",
    "- 코드의 가독성이 좋으며 실행 속도가 빠르다. → 계산이 많은 작업에 등에 쓰인다.\n",
    "- 모듈화하기 어렵고 유지 보수성이 떨어진다. → 코드가 일련의 절차로 구성되어 있기 때문에 한 가지 기능을 변경하려 할 때 다른 기능들에 영향을 미칠 가능성이 크다.\n",
    "- 코드의 재사용성이 떨어지는 경향이 있다.\n",
    "- 이러한 단점을 극복하기 위해 객체지향 프로그래밍이나 함수형 프로그래밍과 같은 패러다임이 등장하였음 → 객체지향 프로그래밍은 데이터와 해당 데이터를 조작하는 메소드를 하나의 단위로 묶어 클래스로 정의하고, 이를 활용하여 모듈화하고 유지 보수성을 높이는 방식을 제공, 함수형 프로그래밍은 함수의 조합을 통해 로직을 구성하고, 상태 변화를 피하는 등의 방식으로 유지 보수성을 높이는 방식을 제공\n",
    "- 현대의 소프트웨어 개발에서는 절차형 프로그래밍보다 객체지향 프로그래밍이나 함수형 프로그래밍을 선호하는 경향이 있다."
   ]
  },
  {
   "cell_type": "code",
   "execution_count": null,
   "id": "644035ee-3078-4d54-a41c-47c670ef9d7f",
   "metadata": {},
   "outputs": [],
   "source": []
  }
 ],
 "metadata": {
  "kernelspec": {
   "display_name": "Python 3 (ipykernel)",
   "language": "python",
   "name": "python3"
  },
  "language_info": {
   "codemirror_mode": {
    "name": "ipython",
    "version": 3
   },
   "file_extension": ".py",
   "mimetype": "text/x-python",
   "name": "python",
   "nbconvert_exporter": "python",
   "pygments_lexer": "ipython3",
   "version": "3.11.7"
  }
 },
 "nbformat": 4,
 "nbformat_minor": 5
}
